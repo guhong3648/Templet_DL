{
 "cells": [
  {
   "cell_type": "code",
   "execution_count": 1,
   "metadata": {},
   "outputs": [
    {
     "name": "stdout",
     "output_type": "stream",
     "text": [
      "True :  NVIDIA GeForce RTX 4090\n"
     ]
    }
   ],
   "source": [
    "GPU_NUM = 1\n",
    "GPU_NUM = str(GPU_NUM)\n",
    "import os\n",
    "os.environ[\"CUDA_DEVICE_ORDER\"] = \"PCI_BUS_ID\" \n",
    "os.environ[\"CUDA_VISIBLE_DEVICES\"] = GPU_NUM\n",
    "\n",
    "import shutil\n",
    "import warnings\n",
    "import contextlib\n",
    "import numpy as np\n",
    "import matplotlib.pyplot as plt\n",
    "from tqdm import tqdm\n",
    "from copy import deepcopy\n",
    "from IPython.display import clear_output\n",
    "\n",
    "warnings.filterwarnings(action='ignore')\n",
    "plt.style.use(plt.style.available[-3])\n",
    "plt.rcParams['image.cmap'] = 'gray'\n",
    "\n",
    "import torch\n",
    "import torch.nn as nn\n",
    "import torch.nn.functional as F\n",
    "from torch.utils.data import TensorDataset, DataLoader, Dataset\n",
    "\n",
    "torch.set_default_dtype(torch.float32)\n",
    "\n",
    "GPU = torch.device('cuda')\n",
    "CPU = torch.device('cpu')\n",
    "print(torch.cuda.is_available(), ': ', torch.cuda.get_device_name(0))\n",
    "torch.cuda.empty_cache()"
   ]
  },
  {
   "cell_type": "code",
   "execution_count": 2,
   "metadata": {},
   "outputs": [],
   "source": [
    "from utils.utils import *\n",
    "from networks.networks import *\n",
    "from options.hyper_parameters import HP"
   ]
  },
  {
   "cell_type": "code",
   "execution_count": null,
   "metadata": {},
   "outputs": [],
   "source": [
    "plot_history(HP('temp'))"
   ]
  },
  {
   "cell_type": "code",
   "execution_count": null,
   "metadata": {},
   "outputs": [],
   "source": [
    "plot_history()"
   ]
  },
  {
   "cell_type": "code",
   "execution_count": null,
   "metadata": {},
   "outputs": [],
   "source": [
    "inference(HP('temp'), epoch=200, clear=False)"
   ]
  },
  {
   "cell_type": "code",
   "execution_count": null,
   "metadata": {},
   "outputs": [],
   "source": [
    "evaluation(HP('temp'), epoch=200, clear=False)"
   ]
  },
  {
   "cell_type": "code",
   "execution_count": null,
   "metadata": {},
   "outputs": [],
   "source": [
    "list_model = ['--', \n",
    "              'temp', \n",
    "              '--']\n",
    "print_total(list_model, [200])"
   ]
  }
 ],
 "metadata": {
  "kernelspec": {
   "display_name": "base",
   "language": "python",
   "name": "python3"
  },
  "language_info": {
   "codemirror_mode": {
    "name": "ipython",
    "version": 3
   },
   "file_extension": ".py",
   "mimetype": "text/x-python",
   "name": "python",
   "nbconvert_exporter": "python",
   "pygments_lexer": "ipython3",
   "version": "3.10.11"
  }
 },
 "nbformat": 4,
 "nbformat_minor": 2
}
